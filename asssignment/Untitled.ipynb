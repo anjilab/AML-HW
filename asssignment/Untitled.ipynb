{
 "cells": [
  {
   "cell_type": "code",
   "execution_count": 9,
   "id": "f89e8dea-6a27-495a-9e2b-bfc84f0f8c76",
   "metadata": {},
   "outputs": [
    {
     "name": "stdout",
     "output_type": "stream",
     "text": [
      "This is feature extractor\n"
     ]
    }
   ],
   "source": [
    "class feature_extractor:\n",
    "    '''Process a paragraph of text like the above into a Bag of Words feature vector'''\n",
    "    def __init__(self):\n",
    "        print('This is feature extractor')\n",
    "    def bag_of_word_feature():\n",
    "        print('tfajfkjfa')\n",
    "\n",
    "\n",
    "fe_obj = feature_extractor()\n",
    "        "
   ]
  },
  {
   "cell_type": "code",
   "execution_count": 10,
   "id": "d05d5efa-a91d-41da-aaca-142ae9ca906f",
   "metadata": {},
   "outputs": [],
   "source": [
    "class classifier_agent:\n",
    "    '''Makes perdiction, learning from labeled training data and evaluating agent performance.'''\n",
    "    def __init__(self):\n",
    "        print('This is classifier agent')\n",
    "    "
   ]
  }
 ],
 "metadata": {
  "kernelspec": {
   "display_name": "Python 3 (ipykernel)",
   "language": "python",
   "name": "python3"
  },
  "language_info": {
   "codemirror_mode": {
    "name": "ipython",
    "version": 3
   },
   "file_extension": ".py",
   "mimetype": "text/x-python",
   "name": "python",
   "nbconvert_exporter": "python",
   "pygments_lexer": "ipython3",
   "version": "3.9.6"
  }
 },
 "nbformat": 4,
 "nbformat_minor": 5
}
