{
 "cells": [
  {
   "cell_type": "code",
   "execution_count": 9,
   "id": "f89e8dea-6a27-495a-9e2b-bfc84f0f8c76",
   "metadata": {},
   "outputs": [
    {
     "name": "stdout",
     "output_type": "stream",
     "text": [
      "This is feature extractor\n"
     ]
    }
   ],
   "source": [
    "class feature_extractor:\n",
    "    '''Process a paragraph of text like the above into a Bag of Words feature vector'''\n",
    "    def __init__(self):\n",
    "        print('This is feature extractor')\n",
    "    def bag_of_word_feature():\n",
    "        print('tfajfkjfa')\n",
    "\n",
    "\n",
    "fe_obj = feature_extractor()\n",
    "        "
   ]
  },
  {
   "cell_type": "code",
   "execution_count": 10,
   "id": "d05d5efa-a91d-41da-aaca-142ae9ca906f",
   "metadata": {},
   "outputs": [],
   "source": [
    "class classifier_agent:\n",
    "    '''Makes perdiction, learning from labeled training data and evaluating agent performance.'''\n",
    "    def __init__(self):\n",
    "        print('This is classifier agent')\n",
    "    "
   ]
  },
  {
   "cell_type": "code",
   "execution_count": 1,
   "id": "ea08be50-7e95-4926-81b8-ab5eaf41089f",
   "metadata": {},
   "outputs": [],
   "source": [
    "def bag_of_word_feature():\n",
    "    print('Bag of word feature')\n",
    "\n",
    "def score_function():\n",
    "    print('Score function')\n",
    "\n",
    "def predict_error():\n",
    "    print(\"Error prediction\")\n",
    "\n",
    "def loss_function():\n",
    "    print(\"Loss function\")\n",
    "\n",
    "def gradient():\n",
    "    print(\"Gradient\")\n",
    "\n",
    "def train_gd():\n",
    "    print(\"Training gradient descent\")\n",
    "\n",
    "def train_sgd():\n",
    "    print(\"Training stochastic gradient descent\")\n",
    "\n",
    "\n",
    "def custom_feature_extractor():\n",
    "    print(\"cUSTOM\")\n"
   ]
  },
  {
   "cell_type": "code",
   "execution_count": null,
   "id": "bf42cb14-a988-4c9a-a3ff-55219ff03aed",
   "metadata": {},
   "outputs": [],
   "source": []
  }
 ],
 "metadata": {
  "kernelspec": {
   "display_name": "Python 3 (ipykernel)",
   "language": "python",
   "name": "python3"
  },
  "language_info": {
   "codemirror_mode": {
    "name": "ipython",
    "version": 3
   },
   "file_extension": ".py",
   "mimetype": "text/x-python",
   "name": "python",
   "nbconvert_exporter": "python",
   "pygments_lexer": "ipython3",
   "version": "3.9.6"
  }
 },
 "nbformat": 4,
 "nbformat_minor": 5
}
