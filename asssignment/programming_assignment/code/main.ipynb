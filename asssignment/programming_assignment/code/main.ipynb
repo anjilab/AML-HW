{
 "cells": [
  {
   "cell_type": "code",
   "execution_count": 11,
   "id": "8840aceb-a5a6-4e6e-9c66-9cd0d4414ada",
   "metadata": {},
   "outputs": [],
   "source": [
    "import numpy as np\n"
   ]
  },
  {
   "cell_type": "code",
   "execution_count": 16,
   "id": "d7a14e3c-2e2b-4496-8ac9-671eb5eedd8a",
   "metadata": {},
   "outputs": [],
   "source": [
    "positive = [\"This film took me by surprise. I make it a habit of finding out as little as possible about films before attending because trailers and reviews provide spoiler after spoiler. All I knew upon entering the theater is that it was a documentary about a long married couple. Filmmaker Doug Block decided to record his parents \\\"for posterity\\\" and at the beginning of the film we are treated to the requisite interviews with his parents, outspoken mother Mina, and less than forthcoming dad, Mike. I immediately found this couple interesting and had no idea where the filmmaker (Mike & Mina's son Doug) was going to take us. As a matter of fact, I doubt that Doug himself knew where he was going with this! Life takes unexpected twists and turns and this beautifully expressive film follows the journey. It is difficult to verbalize just how moved I was with this story and the unique way in which it was told. Absolutely riveting from beginning to end and it really is a must-see even if you aren't a fan of the documentary genre. This film will make you think of your own life and might even evoke memories that you thought were long forgotten. \\\"51 Birch Street\\\" is one of those rare filmgoing experiences that makes a deep impression and never leaves you.  BRAVO!!!!!!!!\",\n",
    "            \"Although I was hoping that I'd like it a little more, this was still certainly an impressive film. There were great performances by all the leads, and the story, while not what I'd call chilling, was still effective and it kept me interested. For me, the best part of this film was the look of the picture, for it always looked cold and damp and it just really seemed to suit the film well. I also thought that the low budget suited this movie, for I don't think that a crisp picture and clear sound would have worked as well in a film this grim. All things considered, it fell a little short of my expectations, but I'm still very glad that I finally sat down to watch this movie.\" ]\n",
    "\n",
    "negative = [ \"While Star Trek the Motion Picture was mostly boring, Star Trek The Final Frontier is plain bad. In this terrible sequel, the crew is on shore leave when they get a distress signal from the Federation that ambassadors representing Earth, Romulus and Kronos (the Klingon home world) have been kidnapped by a renegade Vulcan bent on his quest to attain a starship to venture into the great barrier. There, he hopes to find God. This one is so bad it is hard to figure out where to begin. At the core is a good idea that is never really developed. The plot goes nowhere instead of where no man has gone before. It is almost like the writers had no idea how to end this fiasco. The action scenes don't have the suspense of Wrath of Kahn, the philosophy is boring, and the humor is stale. Now I will focus most of my anger on William Shatner. When he takes the director's chair, the ego gets bigger. Most of the focus is on him, Spock, and McCoy, but does not give the others enough to do. In any case, this is the worst of the Star Trek franchise. I should have given it three out of ten instead of five.\" ,\n",
    "            \"I have now seen quite a few films by Pedro Almodóvar, but this would have to be the most disappointing so far. This film seemed to lack the zaniness that is usually everywhere in his films, and the story just never got me interested. Many Almodóvar regulars appear in this film, so it's not like there was a lack of on-screen talent, but this film just seemed more serious than his other films. If there was a comedic edge to this movie, I certainly couldn't find it, and it made for one surprisingly weak movie.\"]\n",
    "\n",
    "\n",
    "\n"
   ]
  },
  {
   "cell_type": "code",
   "execution_count": 2,
   "id": "69d1290d-ee20-47a1-86e5-a693b726fd72",
   "metadata": {},
   "outputs": [],
   "source": [
    "class feature_extractor:\n",
    "    def __init__(self):\n",
    "        print('Constructor function for feature extractor')"
   ]
  },
  {
   "cell_type": "code",
   "execution_count": 3,
   "id": "6aefffa5-8724-4ca7-8589-fe80b11efe76",
   "metadata": {},
   "outputs": [],
   "source": [
    "class classifier_agent:\n",
    "    def __init__(self):\n",
    "        print('Constructor function for classifier agent')\n",
    "        \n",
    "    def classifier():\n",
    "        z = np.dot(X,W) + b\n",
    "        \n",
    "        return 1 / (1+np.exp(z))\n",
    "        \n",
    "    def cost(self):\n",
    "        ''' Cross entropy loss: logistic loss '''\n",
    "        loss_arr = -1 * (actual_y * np.log(prob_y_predict) + ((1-actual_y) * np.log(1-prob_y_predict)))\n",
    "        overall_loss_scalar = np.sum(loss_arr) * (1/n)\n",
    "        \n",
    "        "
   ]
  },
  {
   "cell_type": "code",
   "execution_count": 19,
   "id": "d0a482a0-dad9-4c31-8d63-236bc1a660bd",
   "metadata": {},
   "outputs": [],
   "source": [
    "def bag_of_word_feature():\n",
    "    word_dict = {}\n",
    "    ''' Order is not important. Here are we expected to implement any classifier.'''\n",
    "    print('Bag of word feature')\n",
    "    \n",
    "\n",
    "def score_function():\n",
    "    ''' Here score function '''\n",
    "    print('Score function')\n",
    "\n",
    "def predict_error():\n",
    "    print(\"Error prediction\")\n",
    "\n",
    "def loss_function():\n",
    "    ''' Cross entropy loss '''\n",
    "    print(\"Loss function\")\n",
    "    loss_arr = -1 * (actual_y * np.log(prob_y_predict) + ((1-actual_y) * np.log(1-prob_y_predict)))\n",
    "    overall_loss_scalar = np.sum(loss_arr) * (1/n)\n",
    "\n",
    "def gradient():\n",
    "    ''' we can simply use pytorch autograd ? '''\n",
    "    print(\"Gradient\")\n",
    "\n",
    "def train_gd():\n",
    "    ''' here we train the data, our classifer ''' \n",
    "    print(\"Training gradient descent\")\n",
    "    # get classifier model\n",
    "    # get its predicted output\n",
    "    # measure its cost function\n",
    "    # backward propagation\n",
    "\n",
    "def train_sgd():\n",
    "    ''' here batch using ''' \n",
    "    print(\"Training stochastic gradient descent\")\n",
    "\n",
    "\n",
    "def custom_feature_extractor():\n",
    "    print(\"cUSTOM\")"
   ]
  },
  {
   "cell_type": "code",
   "execution_count": null,
   "id": "153be935-c242-4a47-8c36-f1302a8d958f",
   "metadata": {},
   "outputs": [],
   "source": [
    "class bag_of_word():\n",
    "    def __init__(self):\n",
    "        super()\n",
    "        \n",
    "    def forward():\n",
    "        print()\n",
    "        "
   ]
  }
 ],
 "metadata": {
  "kernelspec": {
   "display_name": "Python 3 (ipykernel)",
   "language": "python",
   "name": "python3"
  },
  "language_info": {
   "codemirror_mode": {
    "name": "ipython",
    "version": 3
   },
   "file_extension": ".py",
   "mimetype": "text/x-python",
   "name": "python",
   "nbconvert_exporter": "python",
   "pygments_lexer": "ipython3",
   "version": "3.11.7"
  }
 },
 "nbformat": 4,
 "nbformat_minor": 5
}
