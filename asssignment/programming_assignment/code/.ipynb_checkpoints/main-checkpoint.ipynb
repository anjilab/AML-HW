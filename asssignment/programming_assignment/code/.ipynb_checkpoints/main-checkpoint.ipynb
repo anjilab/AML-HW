{
 "cells": [
  {
   "cell_type": "code",
   "execution_count": 1,
   "id": "8840aceb-a5a6-4e6e-9c66-9cd0d4414ada",
   "metadata": {},
   "outputs": [],
   "source": [
    "import numpy as np"
   ]
  },
  {
   "cell_type": "code",
   "execution_count": 2,
   "id": "69d1290d-ee20-47a1-86e5-a693b726fd72",
   "metadata": {},
   "outputs": [],
   "source": [
    "class feature_extractor:\n",
    "    def __init__(self):\n",
    "        print('Constructor function for feature extractor')"
   ]
  },
  {
   "cell_type": "code",
   "execution_count": 3,
   "id": "6aefffa5-8724-4ca7-8589-fe80b11efe76",
   "metadata": {},
   "outputs": [],
   "source": [
    "class classifier_agent:\n",
    "    def __init__(self):\n",
    "        print('Constructor function for classifier agent')\n",
    "    def cost(self):\n",
    "        ''' Cross entropy loss: logistic loss '''\n",
    "        loss_arr = -1 * (actual_y * np.log(prob_y_predict) + ((1-actual_y) * np.log(1-prob_y_predict)))\n",
    "        overall_loss_scalar = np.sum(loss_arr) * (1/n)\n",
    "        \n",
    "        "
   ]
  },
  {
   "cell_type": "code",
   "execution_count": null,
   "id": "d0a482a0-dad9-4c31-8d63-236bc1a660bd",
   "metadata": {},
   "outputs": [],
   "source": []
  }
 ],
 "metadata": {
  "kernelspec": {
   "display_name": "Python 3 (ipykernel)",
   "language": "python",
   "name": "python3"
  },
  "language_info": {
   "codemirror_mode": {
    "name": "ipython",
    "version": 3
   },
   "file_extension": ".py",
   "mimetype": "text/x-python",
   "name": "python",
   "nbconvert_exporter": "python",
   "pygments_lexer": "ipython3",
   "version": "3.9.6"
  }
 },
 "nbformat": 4,
 "nbformat_minor": 5
}
