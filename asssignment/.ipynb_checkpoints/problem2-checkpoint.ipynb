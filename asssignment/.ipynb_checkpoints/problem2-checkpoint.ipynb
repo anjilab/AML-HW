{
 "cells": [
  {
   "cell_type": "code",
   "execution_count": 33,
   "id": "6ae02d0a-4bc3-42ef-b84f-687bbe7c52b0",
   "metadata": {},
   "outputs": [],
   "source": [
    "import numpy as np\n",
    "import scipy\n",
    "import os\n",
    "from scipy.sparse import diags, dia_matrix"
   ]
  },
  {
   "cell_type": "markdown",
   "id": "8a5f9da8-9f61-42b8-a0ca-9ef5cac54c0d",
   "metadata": {},
   "source": [
    "## a. Matrix multiplication"
   ]
  },
  {
   "cell_type": "code",
   "execution_count": 38,
   "id": "b9d6933a-5ea0-47d3-9d0f-bfdfc654825c",
   "metadata": {},
   "outputs": [
    {
     "name": "stdout",
     "output_type": "stream",
     "text": [
      "(5, 4) [[ 1  2  3  4]\n",
      " [ 5  6  7  8]\n",
      " [ 9 10 11 12]\n",
      " [13 14 15 16]\n",
      " [17 18 19 20]]\n",
      "(4, 3) [[ 1  5  9]\n",
      " [ 2  6 10]\n",
      " [ 3  7 11]\n",
      " [ 4  8 12]]\n"
     ]
    }
   ],
   "source": [
    "A =np.arange(1,21)\n",
    "A = A.reshape((5,4))\n",
    "# A = np.array([[1,2,3,4],[5,6,7,8],[9,10,11,12],[13,14,15,16],[17,18,19,20]])\n",
    "print(A.shape, A)\n",
    "\n",
    "B = np.arange(1,13)\n",
    "B = B.reshape((3,4)).T\n",
    "# B = np.array([[1,5,9],[2,6,10],[3,7,11],[4,8,12]])\n",
    "print(B.shape, B)"
   ]
  },
  {
   "cell_type": "code",
   "execution_count": 40,
   "id": "1479c01e-697e-40ff-a01d-8a39d7211ecb",
   "metadata": {},
   "outputs": [
    {
     "name": "stdout",
     "output_type": "stream",
     "text": [
      "Matrix multiplication [[ 30  70 110]\n",
      " [ 70 174 278]\n",
      " [110 278 446]\n",
      " [150 382 614]\n",
      " [190 486 782]]\n"
     ]
    }
   ],
   "source": [
    "def mat_multiply(A,B):\n",
    "    return np.dot(A,B)\n",
    "\n",
    "print('Matrix multiplication',mat_multiply(A,B))"
   ]
  },
  {
   "cell_type": "markdown",
   "id": "5fd6588c-5cd4-49f6-9424-4be5a70d631a",
   "metadata": {},
   "source": [
    "## b. Sparse matrix-vector multiplication"
   ]
  },
  {
   "cell_type": "code",
   "execution_count": 75,
   "id": "d4f1a10c-1569-4447-accb-73131b0221b3",
   "metadata": {},
   "outputs": [
    {
     "name": "stdout",
     "output_type": "stream",
     "text": [
      "N is 7\n",
      "[-3.  2. -1. -1.  3. -3.]\n"
     ]
    }
   ],
   "source": [
    "def generate_sparse_matrix(n):\n",
    "    print(\"N is\",n)\n",
    "    vector_x = np.random.randint(5,size=(n)) # generates number in an array from 0 to 5\n",
    "    diagonals = [np.ones((n-1)), np.ones((n-1)) * -1, np.zeros((n-1))]\n",
    "    sparse_mat_A = diags(diagonals, offsets=[0, 1,2], shape=(n-1,n)).toarray()\n",
    "    return sparse_mat_A @ vector_x.T\n",
    "\n",
    "\n",
    "print(generate_sparse_matrix(7))"
   ]
  },
  {
   "cell_type": "markdown",
   "id": "436ad80d-afd1-4ab3-9708-3370f55b0e57",
   "metadata": {},
   "source": [
    "The worst case time complexity (in Big O notation) of multiplying a matrix A of dimension Rn×n with a dense vector v ∈ Rn =   O(n^2) = Mulitplication & addition operation\n",
    "\n",
    "What if matrix A is sparse, denote the number of non-zero elements by nnz(A) = O(nnz(A) + n)"
   ]
  },
  {
   "cell_type": "markdown",
   "id": "d9a3605b-b88b-4f38-8e8e-146817333f6a",
   "metadata": {},
   "source": [
    "## c. Manipulating text using python, data structures"
   ]
  },
  {
   "cell_type": "code",
   "execution_count": 41,
   "id": "96615435-f1fb-44cf-ac57-ce21f1732370",
   "metadata": {},
   "outputs": [
    {
     "name": "stdout",
     "output_type": "stream",
     "text": [
      "Count of unique words {'this': 5, 'film': 4, 'took': 1, 'me': 1, 'by': 1, 'surprise.': 1, 'i': 5, 'make': 2, 'it': 5, 'a': 7, 'habit': 1, 'of': 6, 'finding': 1, 'out': 1, 'as': 3, 'little': 1, 'possible': 1, 'about': 2, 'films': 1, 'before': 1, 'attending': 1, 'because': 1, 'trailers': 1, 'and': 10, 'reviews': 1, 'provide': 1, 'spoiler': 1, 'after': 1, 'spoiler.': 1, 'all': 1, 'knew': 2, 'upon': 1, 'entering': 1, 'the': 8, 'theater': 1, 'is': 4, 'that': 4, 'was': 5, 'documentary': 2, 'long': 2, 'married': 1, 'couple.': 1, 'filmmaker': 2, 'doug': 2, 'block': 1, 'decided': 1, 'to': 5, 'record': 1, 'his': 2, 'parents': 1, '\"for': 1, 'posterity\"': 1, 'at': 1, 'beginning': 2, 'we': 1, 'are': 1, 'treated': 1, 'requisite': 1, 'interviews': 1, 'with': 3, 'parents,': 1, 'outspoken': 1, 'mother': 1, 'mina,': 1, 'less': 1, 'than': 1, 'forthcoming': 1, 'dad,': 1, 'mike.': 1, 'immediately': 1, 'found': 1, 'couple': 1, 'interesting': 1, 'had': 1, 'no': 1, 'idea': 1, 'where': 2, '(mike': 1, '&': 1, \"mina's\": 1, 'son': 1, 'doug)': 1, 'going': 2, 'take': 1, 'us.': 1, 'matter': 1, 'fact,': 1, 'doubt': 1, 'himself': 1, 'he': 1, 'this!': 1, 'life': 2, 'takes': 1, 'unexpected': 1, 'twists': 1, 'turns': 1, 'beautifully': 1, 'expressive': 1, 'follows': 1, 'journey.': 1, 'difficult': 1, 'verbalize': 1, 'just': 1, 'how': 1, 'moved': 1, 'story': 1, 'unique': 1, 'way': 1, 'in': 1, 'which': 1, 'told.': 1, 'absolutely': 1, 'riveting': 1, 'from': 1, 'end': 1, 'really': 1, 'must-see': 1, 'even': 2, 'if': 1, 'you': 3, \"aren't\": 1, 'fan': 1, 'genre.': 1, 'will': 1, 'think': 1, 'your': 1, 'own': 1, 'might': 1, 'evoke': 1, 'memories': 1, 'thought': 1, 'were': 1, 'forgotten.': 1, '\"51': 1, 'birch': 1, 'street\"': 1, 'one': 1, 'those': 1, 'rare': 1, 'filmgoing': 1, 'experiences': 1, 'makes': 1, 'deep': 1, 'impression': 1, 'never': 1, 'leaves': 1, 'you.': 1}\n"
     ]
    }
   ],
   "source": [
    "file_name = 'data_example.txt'\n",
    "\n",
    "file_content_arr = []\n",
    "\n",
    "\n",
    "\n",
    "def unique_words_with_count(file_name):\n",
    "    current_directory = os.getcwd() # cost = 1, time = 1\n",
    "    file_path = os.path.join(current_directory, file_name)\n",
    "    dict_unique_words_with_count = {}\n",
    "    \n",
    "    try:\n",
    "        with open(file_path, 'r') as file:\n",
    "        # Read the entire contents of the file\n",
    "            file_contents = file.read()\n",
    "            file_content_arr = file_contents.lower().split(' ')\n",
    "    except FileNotFoundError: \n",
    "        print(f\"File not found: {file_path}\")\n",
    "    except Exception as e:\n",
    "        print(f\"An error occurred: {e}\")\n",
    "    \n",
    "    # print(file_content_arr)\n",
    "    for i in file_content_arr:\n",
    "        if i in dict_unique_words_with_count:\n",
    "            dict_unique_words_with_count[i] = dict_unique_words_with_count[i] + 1\n",
    "        else:\n",
    "            dict_unique_words_with_count[i] = 1\n",
    "            \n",
    "    return dict_unique_words_with_count\n",
    "    \n",
    "\n",
    "print('Count of unique words', unique_words_with_count(file_name))\n",
    "\n",
    "\n",
    "\n",
    "    \n",
    "    \n",
    "\n",
    "\n",
    "\n",
    "  "
   ]
  },
  {
   "cell_type": "markdown",
   "id": "e76a2c84-f659-41e8-90a4-233c5b85be6a",
   "metadata": {},
   "source": [
    "1. I have used array and dictionary to solve this problem. \n",
    "As, time complexity (is not time required to execute the function), the measure of runtime of an algorithm (number of basic operations involved, time it takes to execute the operation for a given input. suppose your function takes input n, and that function is simply print operations, no matter what the value of n is, it's always one operation & is fixed. But in case of loop with n, as the number of n increases, operations inside loop also increase.) will change as the input changes. \n",
    "2. Time complexity of above function is O(n + m), where n = size of array and m = how big the file size is.\n",
    "3. Space complexity is O(nm)"
   ]
  },
  {
   "cell_type": "markdown",
   "id": "8acd8305-d0ce-4ca6-a7b2-81af8e4093c1",
   "metadata": {},
   "source": [
    "## d. Recursion with bookkeeping in python"
   ]
  },
  {
   "cell_type": "code",
   "execution_count": 4,
   "id": "f1718d09-94b3-42e1-8156-671018dab807",
   "metadata": {},
   "outputs": [
    {
     "name": "stdout",
     "output_type": "stream",
     "text": [
      "39088169\n"
     ]
    }
   ],
   "source": [
    "# [0,1,1,2,3,5,8,13,....]\n",
    "def fibonacci(n):\n",
    "    if n < 0:\n",
    "        return 'Please, give positive number only'\n",
    "    elif n == 0:\n",
    "        return 0\n",
    "    elif n == 1 or n == 2:\n",
    "        return 1\n",
    "    else:\n",
    "        return fibonacci(n-1) + fibonacci(n-2)\n",
    "\n",
    "print(fibonacci(38)) \n",
    "        "
   ]
  },
  {
   "cell_type": "markdown",
   "id": "d5b9ec83-7568-4596-9c47-2f1758273fef",
   "metadata": {},
   "source": [
    " # This will have n^2 complexity for time & space. O(n^2)."
   ]
  },
  {
   "cell_type": "code",
   "execution_count": 43,
   "id": "d6c7084c-92cd-470e-ad5a-3dfd02f8bff5",
   "metadata": {},
   "outputs": [
    {
     "name": "stdout",
     "output_type": "stream",
     "text": [
      "55\n"
     ]
    }
   ],
   "source": [
    "def fibonacci_reduced_complexity(n, dict ={}):\n",
    "    if n in dict:\n",
    "        return dict[n]\n",
    "    if n < 0:\n",
    "        return 'Please, give positive number only'\n",
    "    elif n == 0:\n",
    "        # dict[n] = 0\n",
    "        return 0\n",
    "    elif n == 1 or n == 2:\n",
    "        dict[n] = 1\n",
    "        return 1\n",
    "    else:\n",
    "        dict[n] = fibonacci_reduced_complexity(n-1, dict) + fibonacci_reduced_complexity(n-2, dict)\n",
    "    return dict[n]\n",
    "\n",
    "print(fibonacci_reduced_complexity(10)) "
   ]
  },
  {
   "cell_type": "markdown",
   "id": "6a5cef80-aceb-427e-9df4-42f939fb2739",
   "metadata": {},
   "source": [
    "# This will have 2n complexity for time & space. O(2n) = O(n)."
   ]
  },
  {
   "cell_type": "code",
   "execution_count": null,
   "id": "7e352893-63a1-430a-bc5b-e21dc7a5c6ba",
   "metadata": {},
   "outputs": [],
   "source": []
  }
 ],
 "metadata": {
  "kernelspec": {
   "display_name": "Python 3 (ipykernel)",
   "language": "python",
   "name": "python3"
  },
  "language_info": {
   "codemirror_mode": {
    "name": "ipython",
    "version": 3
   },
   "file_extension": ".py",
   "mimetype": "text/x-python",
   "name": "python",
   "nbconvert_exporter": "python",
   "pygments_lexer": "ipython3",
   "version": "3.9.6"
  }
 },
 "nbformat": 4,
 "nbformat_minor": 5
}
