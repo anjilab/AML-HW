{
 "cells": [
  {
   "cell_type": "code",
   "execution_count": 1,
   "id": "6ae02d0a-4bc3-42ef-b84f-687bbe7c52b0",
   "metadata": {},
   "outputs": [],
   "source": [
    "import numpy as np"
   ]
  },
  {
   "cell_type": "code",
   "execution_count": 6,
   "id": "b9d6933a-5ea0-47d3-9d0f-bfdfc654825c",
   "metadata": {},
   "outputs": [
    {
     "name": "stdout",
     "output_type": "stream",
     "text": [
      "(5, 4) [[ 1  2  3  4]\n",
      " [ 5  6  7  8]\n",
      " [ 9 10 11 12]\n",
      " [13 14 15 16]\n",
      " [17 18 19 20]]\n",
      "(4, 3) [[ 1  5  9]\n",
      " [ 2  6 10]\n",
      " [ 3  7 11]\n",
      " [ 4  8 12]]\n"
     ]
    }
   ],
   "source": [
    "A = np.array([[1,2,3,4],[5,6,7,8],[9,10,11,12],[13,14,15,16],[17,18,19,20]])\n",
    "print(A.shape, A)\n",
    "B = np.array([[1,5,9],[2,6,10],[3,7,11],[4,8,12]])\n",
    "print(B.shape, B)"
   ]
  },
  {
   "cell_type": "code",
   "execution_count": 8,
   "id": "1479c01e-697e-40ff-a01d-8a39d7211ecb",
   "metadata": {},
   "outputs": [
    {
     "name": "stdout",
     "output_type": "stream",
     "text": [
      "Matrix multiplication [[ 30  70 110]\n",
      " [ 70 174 278]\n",
      " [110 278 446]\n",
      " [150 382 614]\n",
      " [190 486 782]]\n"
     ]
    }
   ],
   "source": [
    "def mat_multiply(A,B):\n",
    "    return np.dot(A,B)\n",
    "\n",
    "print('Matrix multiplication',mat_multiply(A,B))"
   ]
  },
  {
   "cell_type": "code",
   "execution_count": 10,
   "id": "f1718d09-94b3-42e1-8156-671018dab807",
   "metadata": {},
   "outputs": [
    {
     "name": "stdout",
     "output_type": "stream",
     "text": [
      "1\n"
     ]
    }
   ],
   "source": [
    "def fibonacci(n):\n",
    "    if n < 0:\n",
    "        return 'Please, give positive number only'\n",
    "    elif n == 0:\n",
    "        return 0\n",
    "    elif n == 1 or n == 2:\n",
    "        return 1\n",
    "\n",
    "print(fibonacci(1))\n",
    "        "
   ]
  },
  {
   "cell_type": "code",
   "execution_count": null,
   "id": "d6c7084c-92cd-470e-ad5a-3dfd02f8bff5",
   "metadata": {},
   "outputs": [],
   "source": []
  }
 ],
 "metadata": {
  "kernelspec": {
   "display_name": "Python 3 (ipykernel)",
   "language": "python",
   "name": "python3"
  },
  "language_info": {
   "codemirror_mode": {
    "name": "ipython",
    "version": 3
   },
   "file_extension": ".py",
   "mimetype": "text/x-python",
   "name": "python",
   "nbconvert_exporter": "python",
   "pygments_lexer": "ipython3",
   "version": "3.9.6"
  }
 },
 "nbformat": 4,
 "nbformat_minor": 5
}
